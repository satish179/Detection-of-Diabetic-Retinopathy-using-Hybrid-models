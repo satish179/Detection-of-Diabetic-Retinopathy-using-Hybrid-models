{
 "cells": [
  {
   "cell_type": "code",
   "execution_count": 2,
   "metadata": {
    "execution": {
     "iopub.execute_input": "2025-04-14T08:06:11.328146Z",
     "iopub.status.busy": "2025-04-14T08:06:11.327680Z",
     "iopub.status.idle": "2025-04-14T12:09:43.901596Z",
     "shell.execute_reply": "2025-04-14T12:09:43.900461Z",
     "shell.execute_reply.started": "2025-04-14T08:06:11.328118Z"
    }
   },
   "outputs": [
    {
     "name": "stderr",
     "output_type": "stream",
     "text": [
      "/tmp/ipykernel_23/1870237637.py:67: FutureWarning: `torch.cuda.amp.GradScaler(args...)` is deprecated. Please use `torch.amp.GradScaler('cuda', args...)` instead.\n",
      "  scaler = torch.cuda.amp.GradScaler() if USE_AMP else None\n"
     ]
    },
    {
     "data": {
      "application/vnd.jupyter.widget-view+json": {
       "model_id": "e1d92abb65c0466d8fa1feb11ac04fdf",
       "version_major": 2,
       "version_minor": 0
      },
      "text/plain": [
       "model.safetensors:   0%|          | 0.00/204M [00:00<?, ?B/s]"
      ]
     },
     "metadata": {},
     "output_type": "display_data"
    },
    {
     "name": "stdout",
     "output_type": "stream",
     "text": [
      "Epoch 1/50\n"
     ]
    },
    {
     "name": "stderr",
     "output_type": "stream",
     "text": [
      "Training:   0%|          | 0/92 [00:00<?, ?it/s]/tmp/ipykernel_23/1870237637.py:92: FutureWarning: `torch.cuda.amp.autocast(args...)` is deprecated. Please use `torch.amp.autocast('cuda', args...)` instead.\n",
      "  with torch.cuda.amp.autocast():\n",
      "                                                           \r"
     ]
    },
    {
     "name": "stdout",
     "output_type": "stream",
     "text": [
      "Train Acc: 63.47% | Val Acc: 63.03%\n",
      "Epoch 2/50\n"
     ]
    },
    {
     "name": "stderr",
     "output_type": "stream",
     "text": [
      "                                                           \r"
     ]
    },
    {
     "name": "stdout",
     "output_type": "stream",
     "text": [
      "Train Acc: 76.78% | Val Acc: 77.22%\n",
      "Epoch 3/50\n"
     ]
    },
    {
     "name": "stderr",
     "output_type": "stream",
     "text": [
      "                                                           \r"
     ]
    },
    {
     "name": "stdout",
     "output_type": "stream",
     "text": [
      "Train Acc: 81.46% | Val Acc: 72.85%\n",
      "Epoch 4/50\n"
     ]
    },
    {
     "name": "stderr",
     "output_type": "stream",
     "text": [
      "                                                           \r"
     ]
    },
    {
     "name": "stdout",
     "output_type": "stream",
     "text": [
      "Train Acc: 85.52% | Val Acc: 76.94%\n",
      "Epoch 5/50\n"
     ]
    },
    {
     "name": "stderr",
     "output_type": "stream",
     "text": [
      "                                                           \r"
     ]
    },
    {
     "name": "stdout",
     "output_type": "stream",
     "text": [
      "Train Acc: 89.18% | Val Acc: 78.85%\n",
      "Epoch 6/50\n"
     ]
    },
    {
     "name": "stderr",
     "output_type": "stream",
     "text": [
      "                                                           \r"
     ]
    },
    {
     "name": "stdout",
     "output_type": "stream",
     "text": [
      "Train Acc: 89.79% | Val Acc: 81.45%\n",
      "Epoch 7/50\n"
     ]
    },
    {
     "name": "stderr",
     "output_type": "stream",
     "text": [
      "                                                           \r"
     ]
    },
    {
     "name": "stdout",
     "output_type": "stream",
     "text": [
      "Train Acc: 92.22% | Val Acc: 83.63%\n",
      "Epoch 8/50\n"
     ]
    },
    {
     "name": "stderr",
     "output_type": "stream",
     "text": [
      "                                                           \r"
     ]
    },
    {
     "name": "stdout",
     "output_type": "stream",
     "text": [
      "Train Acc: 94.43% | Val Acc: 81.04%\n",
      "Epoch 9/50\n"
     ]
    },
    {
     "name": "stderr",
     "output_type": "stream",
     "text": [
      "                                                           \r"
     ]
    },
    {
     "name": "stdout",
     "output_type": "stream",
     "text": [
      "Train Acc: 96.55% | Val Acc: 81.31%\n",
      "Epoch 10/50\n"
     ]
    },
    {
     "name": "stderr",
     "output_type": "stream",
     "text": [
      "                                                           \r"
     ]
    },
    {
     "name": "stdout",
     "output_type": "stream",
     "text": [
      "Train Acc: 96.01% | Val Acc: 80.35%\n",
      "Epoch 11/50\n"
     ]
    },
    {
     "name": "stderr",
     "output_type": "stream",
     "text": [
      "                                                           \r"
     ]
    },
    {
     "name": "stdout",
     "output_type": "stream",
     "text": [
      "Train Acc: 97.68% | Val Acc: 81.58%\n",
      "Epoch 12/50\n"
     ]
    },
    {
     "name": "stderr",
     "output_type": "stream",
     "text": [
      "                                                           \r"
     ]
    },
    {
     "name": "stdout",
     "output_type": "stream",
     "text": [
      "Train Acc: 96.82% | Val Acc: 83.36%\n",
      "Epoch 13/50\n"
     ]
    },
    {
     "name": "stderr",
     "output_type": "stream",
     "text": [
      "                                                           \r"
     ]
    },
    {
     "name": "stdout",
     "output_type": "stream",
     "text": [
      "Train Acc: 97.27% | Val Acc: 82.95%\n",
      "Epoch 14/50\n"
     ]
    },
    {
     "name": "stderr",
     "output_type": "stream",
     "text": [
      "                                                           \r"
     ]
    },
    {
     "name": "stdout",
     "output_type": "stream",
     "text": [
      "Train Acc: 98.12% | Val Acc: 81.86%\n",
      "Epoch 15/50\n"
     ]
    },
    {
     "name": "stderr",
     "output_type": "stream",
     "text": [
      "                                                           \r"
     ]
    },
    {
     "name": "stdout",
     "output_type": "stream",
     "text": [
      "Train Acc: 96.62% | Val Acc: 83.90%\n",
      "Epoch 16/50\n"
     ]
    },
    {
     "name": "stderr",
     "output_type": "stream",
     "text": [
      "                                                           \r"
     ]
    },
    {
     "name": "stdout",
     "output_type": "stream",
     "text": [
      "Train Acc: 98.22% | Val Acc: 83.63%\n",
      "Epoch 17/50\n"
     ]
    },
    {
     "name": "stderr",
     "output_type": "stream",
     "text": [
      "                                                           \r"
     ]
    },
    {
     "name": "stdout",
     "output_type": "stream",
     "text": [
      "Train Acc: 98.19% | Val Acc: 84.99%\n",
      "Epoch 18/50\n"
     ]
    },
    {
     "name": "stderr",
     "output_type": "stream",
     "text": [
      "                                                           \r"
     ]
    },
    {
     "name": "stdout",
     "output_type": "stream",
     "text": [
      "Train Acc: 97.78% | Val Acc: 82.54%\n",
      "Epoch 19/50\n"
     ]
    },
    {
     "name": "stderr",
     "output_type": "stream",
     "text": [
      "                                                           \r"
     ]
    },
    {
     "name": "stdout",
     "output_type": "stream",
     "text": [
      "Train Acc: 97.34% | Val Acc: 80.63%\n",
      "Epoch 20/50\n"
     ]
    },
    {
     "name": "stderr",
     "output_type": "stream",
     "text": [
      "                                                           \r"
     ]
    },
    {
     "name": "stdout",
     "output_type": "stream",
     "text": [
      "Train Acc: 94.50% | Val Acc: 81.99%\n",
      "Epoch 21/50\n"
     ]
    },
    {
     "name": "stderr",
     "output_type": "stream",
     "text": [
      "                                                           \r"
     ]
    },
    {
     "name": "stdout",
     "output_type": "stream",
     "text": [
      "Train Acc: 96.01% | Val Acc: 79.40%\n",
      "Epoch 22/50\n"
     ]
    },
    {
     "name": "stderr",
     "output_type": "stream",
     "text": [
      "                                                           \r"
     ]
    },
    {
     "name": "stdout",
     "output_type": "stream",
     "text": [
      "Train Acc: 96.65% | Val Acc: 83.08%\n",
      "Epoch 23/50\n"
     ]
    },
    {
     "name": "stderr",
     "output_type": "stream",
     "text": [
      "                                                           \r"
     ]
    },
    {
     "name": "stdout",
     "output_type": "stream",
     "text": [
      "Train Acc: 98.12% | Val Acc: 83.36%\n",
      "Epoch 24/50\n"
     ]
    },
    {
     "name": "stderr",
     "output_type": "stream",
     "text": [
      "                                                           \r"
     ]
    },
    {
     "name": "stdout",
     "output_type": "stream",
     "text": [
      "Train Acc: 98.81% | Val Acc: 83.08%\n",
      "Epoch 25/50\n"
     ]
    },
    {
     "name": "stderr",
     "output_type": "stream",
     "text": [
      "                                                           \r"
     ]
    },
    {
     "name": "stdout",
     "output_type": "stream",
     "text": [
      "Train Acc: 98.81% | Val Acc: 83.77%\n",
      "Epoch 26/50\n"
     ]
    },
    {
     "name": "stderr",
     "output_type": "stream",
     "text": [
      "                                                           \r"
     ]
    },
    {
     "name": "stdout",
     "output_type": "stream",
     "text": [
      "Train Acc: 98.84% | Val Acc: 82.81%\n",
      "Epoch 27/50\n"
     ]
    },
    {
     "name": "stderr",
     "output_type": "stream",
     "text": [
      "                                                           \r"
     ]
    },
    {
     "name": "stdout",
     "output_type": "stream",
     "text": [
      "Train Acc: 98.40% | Val Acc: 84.86%\n",
      "Epoch 28/50\n"
     ]
    },
    {
     "name": "stderr",
     "output_type": "stream",
     "text": [
      "                                                           \r"
     ]
    },
    {
     "name": "stdout",
     "output_type": "stream",
     "text": [
      "Train Acc: 95.25% | Val Acc: 82.54%\n",
      "Epoch 29/50\n"
     ]
    },
    {
     "name": "stderr",
     "output_type": "stream",
     "text": [
      "                                                           \r"
     ]
    },
    {
     "name": "stdout",
     "output_type": "stream",
     "text": [
      "Train Acc: 98.05% | Val Acc: 83.77%\n",
      "Epoch 30/50\n"
     ]
    },
    {
     "name": "stderr",
     "output_type": "stream",
     "text": [
      "                                                           \r"
     ]
    },
    {
     "name": "stdout",
     "output_type": "stream",
     "text": [
      "Train Acc: 98.67% | Val Acc: 84.45%\n",
      "Epoch 31/50\n"
     ]
    },
    {
     "name": "stderr",
     "output_type": "stream",
     "text": [
      "                                                           \r"
     ]
    },
    {
     "name": "stdout",
     "output_type": "stream",
     "text": [
      "Train Acc: 98.84% | Val Acc: 84.45%\n",
      "Epoch 32/50\n"
     ]
    },
    {
     "name": "stderr",
     "output_type": "stream",
     "text": [
      "                                                           \r"
     ]
    },
    {
     "name": "stdout",
     "output_type": "stream",
     "text": [
      "Train Acc: 98.87% | Val Acc: 83.77%\n",
      "Epoch 33/50\n"
     ]
    },
    {
     "name": "stderr",
     "output_type": "stream",
     "text": [
      "                                                           \r"
     ]
    },
    {
     "name": "stdout",
     "output_type": "stream",
     "text": [
      "Train Acc: 98.98% | Val Acc: 84.45%\n",
      "Epoch 34/50\n"
     ]
    },
    {
     "name": "stderr",
     "output_type": "stream",
     "text": [
      "                                                           \r"
     ]
    },
    {
     "name": "stdout",
     "output_type": "stream",
     "text": [
      "Train Acc: 98.94% | Val Acc: 84.99%\n",
      "Epoch 35/50\n"
     ]
    },
    {
     "name": "stderr",
     "output_type": "stream",
     "text": [
      "                                                           \r"
     ]
    },
    {
     "name": "stdout",
     "output_type": "stream",
     "text": [
      "Train Acc: 98.98% | Val Acc: 84.04%\n",
      "Epoch 36/50\n"
     ]
    },
    {
     "name": "stderr",
     "output_type": "stream",
     "text": [
      "                                                           \r"
     ]
    },
    {
     "name": "stdout",
     "output_type": "stream",
     "text": [
      "Train Acc: 98.57% | Val Acc: 83.08%\n",
      "Epoch 37/50\n"
     ]
    },
    {
     "name": "stderr",
     "output_type": "stream",
     "text": [
      "                                                           \r"
     ]
    },
    {
     "name": "stdout",
     "output_type": "stream",
     "text": [
      "Train Acc: 98.81% | Val Acc: 83.36%\n",
      "Epoch 38/50\n"
     ]
    },
    {
     "name": "stderr",
     "output_type": "stream",
     "text": [
      "                                                           \r"
     ]
    },
    {
     "name": "stdout",
     "output_type": "stream",
     "text": [
      "Train Acc: 98.98% | Val Acc: 84.58%\n",
      "Epoch 39/50\n"
     ]
    },
    {
     "name": "stderr",
     "output_type": "stream",
     "text": [
      "                                                           \r"
     ]
    },
    {
     "name": "stdout",
     "output_type": "stream",
     "text": [
      "Train Acc: 98.60% | Val Acc: 81.58%\n",
      "Epoch 40/50\n"
     ]
    },
    {
     "name": "stderr",
     "output_type": "stream",
     "text": [
      "                                                           \r"
     ]
    },
    {
     "name": "stdout",
     "output_type": "stream",
     "text": [
      "Train Acc: 95.32% | Val Acc: 80.08%\n",
      "Epoch 41/50\n"
     ]
    },
    {
     "name": "stderr",
     "output_type": "stream",
     "text": [
      "                                                           \r"
     ]
    },
    {
     "name": "stdout",
     "output_type": "stream",
     "text": [
      "Train Acc: 96.52% | Val Acc: 83.90%\n",
      "Epoch 42/50\n"
     ]
    },
    {
     "name": "stderr",
     "output_type": "stream",
     "text": [
      "                                                           \r"
     ]
    },
    {
     "name": "stdout",
     "output_type": "stream",
     "text": [
      "Train Acc: 98.36% | Val Acc: 82.40%\n",
      "Epoch 43/50\n"
     ]
    },
    {
     "name": "stderr",
     "output_type": "stream",
     "text": [
      "                                                           \r"
     ]
    },
    {
     "name": "stdout",
     "output_type": "stream",
     "text": [
      "Train Acc: 97.41% | Val Acc: 82.26%\n",
      "Epoch 44/50\n"
     ]
    },
    {
     "name": "stderr",
     "output_type": "stream",
     "text": [
      "                                                           \r"
     ]
    },
    {
     "name": "stdout",
     "output_type": "stream",
     "text": [
      "Train Acc: 97.92% | Val Acc: 83.77%\n",
      "Epoch 45/50\n"
     ]
    },
    {
     "name": "stderr",
     "output_type": "stream",
     "text": [
      "                                                           \r"
     ]
    },
    {
     "name": "stdout",
     "output_type": "stream",
     "text": [
      "Train Acc: 97.81% | Val Acc: 84.17%\n",
      "Epoch 46/50\n"
     ]
    },
    {
     "name": "stderr",
     "output_type": "stream",
     "text": [
      "                                                           \r"
     ]
    },
    {
     "name": "stdout",
     "output_type": "stream",
     "text": [
      "Train Acc: 98.09% | Val Acc: 81.99%\n",
      "Epoch 47/50\n"
     ]
    },
    {
     "name": "stderr",
     "output_type": "stream",
     "text": [
      "                                                           \r"
     ]
    },
    {
     "name": "stdout",
     "output_type": "stream",
     "text": [
      "Train Acc: 97.88% | Val Acc: 84.99%\n",
      "Epoch 48/50\n"
     ]
    },
    {
     "name": "stderr",
     "output_type": "stream",
     "text": [
      "                                                           \r"
     ]
    },
    {
     "name": "stdout",
     "output_type": "stream",
     "text": [
      "Train Acc: 98.60% | Val Acc: 83.90%\n",
      "Epoch 49/50\n"
     ]
    },
    {
     "name": "stderr",
     "output_type": "stream",
     "text": [
      "                                                           \r"
     ]
    },
    {
     "name": "stdout",
     "output_type": "stream",
     "text": [
      "Train Acc: 98.19% | Val Acc: 83.22%\n",
      "Epoch 50/50\n"
     ]
    },
    {
     "name": "stderr",
     "output_type": "stream",
     "text": [
      "                                                           \r"
     ]
    },
    {
     "name": "stdout",
     "output_type": "stream",
     "text": [
      "Train Acc: 98.74% | Val Acc: 84.58%\n",
      "✅ Training complete and metrics saved.\n"
     ]
    }
   ],
   "source": [
    "import torch\n",
    "import torch.nn as nn\n",
    "import torch.optim as optim\n",
    "import pandas as pd\n",
    "import numpy as np\n",
    "from torch.utils.data import DataLoader, Dataset\n",
    "from torchvision import transforms as T\n",
    "from torchvision.io import read_image\n",
    "from sklearn.utils.class_weight import compute_class_weight\n",
    "from tqdm import tqdm\n",
    "import os\n",
    "import time\n",
    "import timm\n",
    "\n",
    "# === Configurations ===\n",
    "MODEL_NAME = \"swinv2_small_window16_256\"\n",
    "DATA_DIR = \"/kaggle/input/aptos2019-blindness-detection/train_images\"\n",
    "CSV_PATH = \"/kaggle/input/aptos2019-blindness-detection/train.csv\"\n",
    "MODEL_SAVE = \"/kaggle/working/swinv2_metrics.csv\"\n",
    "LEARNING_RATE = 1e-4\n",
    "TRAIN_BATCH_SIZE = 32\n",
    "VALID_BATCH_SIZE = 32\n",
    "TRAIN_SPLIT = 0.8\n",
    "NUM_WORKERS = 2\n",
    "USE_AMP = True\n",
    "EPOCHS = 50\n",
    "\n",
    "# === Dataset Class ===\n",
    "class RetinopathyDataset(Dataset):\n",
    "    def __init__(self, image_dir, csv_file, transforms=None):\n",
    "        self.transforms = transforms\n",
    "        self.image_dir = image_dir\n",
    "        self.data = pd.read_csv(csv_file)\n",
    "\n",
    "        # Filter only rows with existing images\n",
    "        existing_images = set(os.listdir(image_dir))\n",
    "        self.data = self.data[self.data['id_code'].apply(lambda x: f\"{x}.png\" in existing_images)].reset_index(drop=True)\n",
    "\n",
    "    def __len__(self):\n",
    "        return len(self.data)\n",
    "\n",
    "    def __getitem__(self, idx):\n",
    "        img_name = os.path.join(self.image_dir, self.data.loc[idx, 'id_code'] + '.png')\n",
    "        tensor_image = read_image(img_name)\n",
    "        label = torch.tensor(self.data.loc[idx, 'diagnosis'], dtype=torch.long)\n",
    "        if self.transforms is not None:\n",
    "            tensor_image = self.transforms(tensor_image)\n",
    "        return tensor_image, label\n",
    "\n",
    "# === Transforms ===\n",
    "train_transforms = T.Compose([\n",
    "    T.Resize((256, 256)),\n",
    "    T.ConvertImageDtype(torch.float32),\n",
    "    T.Normalize([0.485, 0.456, 0.406], [0.229, 0.224, 0.225])\n",
    "])\n",
    "\n",
    "# === Data Loading ===\n",
    "full_dataset = RetinopathyDataset(DATA_DIR, CSV_PATH, transforms=train_transforms)\n",
    "train_size = int(TRAIN_SPLIT * len(full_dataset))\n",
    "val_size = len(full_dataset) - train_size\n",
    "train_dataset, val_dataset = torch.utils.data.random_split(full_dataset, [train_size, val_size])\n",
    "train_loader = DataLoader(train_dataset, batch_size=TRAIN_BATCH_SIZE, shuffle=True, num_workers=NUM_WORKERS)\n",
    "val_loader = DataLoader(val_dataset, batch_size=VALID_BATCH_SIZE, shuffle=False, num_workers=NUM_WORKERS)\n",
    "\n",
    "# === Device and AMP ===\n",
    "device = torch.device(\"cuda\" if torch.cuda.is_available() else \"cpu\")\n",
    "scaler = torch.cuda.amp.GradScaler() if USE_AMP else None\n",
    "\n",
    "# === Model (image-only for training) ===\n",
    "model = timm.create_model(MODEL_NAME, pretrained=True, num_classes=5)\n",
    "model = model.to(device)\n",
    "\n",
    "# === Class Weights ===\n",
    "train_df = pd.read_csv(CSV_PATH)\n",
    "class_labels = train_df['diagnosis'].values\n",
    "unique_classes = np.unique(class_labels)\n",
    "class_weights = compute_class_weight('balanced', classes=unique_classes, y=class_labels)\n",
    "weights_tensor = torch.tensor(class_weights, dtype=torch.float32).to(device)\n",
    "\n",
    "# === Loss & Optimizer ===\n",
    "criterion = nn.CrossEntropyLoss(weight=weights_tensor)\n",
    "optimizer = optim.AdamW(model.parameters(), lr=LEARNING_RATE)\n",
    "\n",
    "# === Training & Validation Functions ===\n",
    "def train_step(model, train_loader, criterion, device, optimizer, scaler=None):\n",
    "    model.train()\n",
    "    total_loss, correct, total = 0, 0, 0\n",
    "    for inputs, targets in tqdm(train_loader, desc=\"Training\", leave=False):\n",
    "        inputs, targets = inputs.to(device), targets.to(device)\n",
    "        optimizer.zero_grad()\n",
    "        if scaler:\n",
    "            with torch.cuda.amp.autocast():\n",
    "                outputs = model(inputs)\n",
    "                loss = criterion(outputs, targets)\n",
    "            scaler.scale(loss).backward()\n",
    "            scaler.step(optimizer)\n",
    "            scaler.update()\n",
    "        else:\n",
    "            outputs = model(inputs)\n",
    "            loss = criterion(outputs, targets)\n",
    "            loss.backward()\n",
    "            optimizer.step()\n",
    "        total_loss += loss.item() * inputs.size(0)\n",
    "        correct += outputs.argmax(1).eq(targets).sum().item()\n",
    "        total += inputs.size(0)\n",
    "    return {\"loss\": total_loss / total, \"accuracy\": 100.0 * correct / total}\n",
    "\n",
    "def val_step(model, val_loader, criterion, device):\n",
    "    model.eval()\n",
    "    total_loss, correct, total = 0, 0, 0\n",
    "    with torch.no_grad():\n",
    "        for inputs, targets in tqdm(val_loader, desc=\"Validation\", leave=False):\n",
    "            inputs, targets = inputs.to(device), targets.to(device)\n",
    "            outputs = model(inputs)\n",
    "            loss = criterion(outputs, targets)\n",
    "            total_loss += loss.item() * inputs.size(0)\n",
    "            correct += outputs.argmax(1).eq(targets).sum().item()\n",
    "            total += inputs.size(0)\n",
    "    return {\"loss\": total_loss / total, \"accuracy\": 100.0 * correct / total}\n",
    "\n",
    "# === Training Loop ===\n",
    "train_loss, train_accuracy = [], []\n",
    "val_loss, val_accuracy = [], []\n",
    "start_time = time.time()\n",
    "\n",
    "for epoch in range(EPOCHS):\n",
    "    print(f\"Epoch {epoch+1}/{EPOCHS}\")\n",
    "    train_metrics = train_step(model, train_loader, criterion, device, optimizer, scaler)\n",
    "    val_metrics = val_step(model, val_loader, criterion, device)\n",
    "    train_loss.append(train_metrics[\"loss\"])\n",
    "    train_accuracy.append(train_metrics[\"accuracy\"])\n",
    "    val_loss.append(val_metrics[\"loss\"])\n",
    "    val_accuracy.append(val_metrics[\"accuracy\"])\n",
    "    print(f\"Train Acc: {train_metrics['accuracy']:.2f}% | Val Acc: {val_metrics['accuracy']:.2f}%\")\n",
    "    torch.save(model.state_dict(), f\"/kaggle/working/{MODEL_NAME}_epoch{epoch+1}.pt\")\n",
    "\n",
    "# === Save Metrics to CSV ===\n",
    "metrics_df = pd.DataFrame({\n",
    "    \"epoch\": list(range(1, EPOCHS + 1)),\n",
    "    \"train_loss\": train_loss,\n",
    "    \"train_accuracy\": train_accuracy,\n",
    "    \"val_loss\": val_loss,\n",
    "    \"val_accuracy\": val_accuracy\n",
    "})\n",
    "metrics_df.to_csv(MODEL_SAVE, index=False)\n",
    "print(\"✅ Training complete and metrics saved.\")"
   ]
  },
  {
   "cell_type": "code",
   "execution_count": 3,
   "metadata": {
    "execution": {
     "iopub.execute_input": "2025-04-14T12:09:51.988073Z",
     "iopub.status.busy": "2025-04-14T12:09:51.987687Z",
     "iopub.status.idle": "2025-04-14T12:09:52.264718Z",
     "shell.execute_reply": "2025-04-14T12:09:52.263775Z",
     "shell.execute_reply.started": "2025-04-14T12:09:51.988037Z"
    }
   },
   "outputs": [
    {
     "name": "stdout",
     "output_type": "stream",
     "text": [
      "✅ Final model saved at: /kaggle/working/Praveen.pt\n"
     ]
    }
   ],
   "source": [
    "# Save the final model state_dict\n",
    "FINAL_MODEL_PATH = \"/kaggle/working/model.pt\"\n",
    "torch.save(model.state_dict(), FINAL_MODEL_PATH)\n",
    "print(\"✅ Final model saved at:\", FINAL_MODEL_PATH)"
   ]
  },
  {
   "cell_type": "code",
   "execution_count": 4,
   "metadata": {
    "execution": {
     "iopub.execute_input": "2025-04-14T12:14:09.989897Z",
     "iopub.status.busy": "2025-04-14T12:14:09.989226Z",
     "iopub.status.idle": "2025-04-14T12:15:07.772892Z",
     "shell.execute_reply": "2025-04-14T12:15:07.771889Z",
     "shell.execute_reply.started": "2025-04-14T12:14:09.989861Z"
    }
   },
   "outputs": [
    {
     "name": "stderr",
     "output_type": "stream",
     "text": [
      "                                                           \r"
     ]
    },
    {
     "data": {
      "image/png": "[encoded data removed]",
      "text/plain": [
       "<Figure size 800x600 with 2 Axes>"
      ]
     },
     "metadata": {},
     "output_type": "display_data"
    },
    {
     "name": "stdout",
     "output_type": "stream",
     "text": [
      "Classification Report:\n",
      "\n",
      "              precision    recall  f1-score   support\n",
      "\n",
      "           0     0.9806    0.9566    0.9684       369\n",
      "           1     0.6190    0.5821    0.6000        67\n",
      "           2     0.7522    0.8808    0.8115       193\n",
      "           3     0.5385    0.4118    0.4667        34\n",
      "           4     0.7586    0.6286    0.6875        70\n",
      "\n",
      "    accuracy                         0.8458       733\n",
      "   macro avg     0.7298    0.6920    0.7068       733\n",
      "weighted avg     0.8457    0.8458    0.8433       733\n",
      "\n"
     ]
    }
   ],
   "source": [
    "from sklearn.metrics import classification_report, confusion_matrix\n",
    "import seaborn as sns\n",
    "import matplotlib.pyplot as plt\n",
    "\n",
    "# === Evaluation Function ===\n",
    "def evaluate_model(model, val_loader, device):\n",
    "    model.eval()\n",
    "    all_preds = []\n",
    "    all_targets = []\n",
    "    with torch.no_grad():\n",
    "        for inputs, targets in tqdm(val_loader, desc=\"Evaluating\", leave=False):\n",
    "            inputs = inputs.to(device)\n",
    "            outputs = model(inputs)\n",
    "            preds = outputs.argmax(1).cpu().numpy()\n",
    "            all_preds.extend(preds)\n",
    "            all_targets.extend(targets.numpy())\n",
    "    \n",
    "    # Confusion Matrix\n",
    "    cm = confusion_matrix(all_targets, all_preds)\n",
    "    plt.figure(figsize=(8, 6))\n",
    "    sns.heatmap(cm, annot=True, fmt=\"d\", cmap=\"Blues\", xticklabels=range(5), yticklabels=range(5))\n",
    "    plt.xlabel(\"Predicted\")\n",
    "    plt.ylabel(\"Actual\")\n",
    "    plt.title(\"Confusion Matrix\")\n",
    "    plt.show()\n",
    "    \n",
    "    # Classification Report\n",
    "    report = classification_report(all_targets, all_preds, digits=4)\n",
    "    print(\"Classification Report:\\n\")\n",
    "    print(report)\n",
    "\n",
    "# === Load Best Model if needed ===\n",
    "# model.load_state_dict(torch.load(\"/kaggle/working/best_model.pt\"))  # Uncomment if evaluating a specific saved model\n",
    "\n",
    "# === Run Evaluation ===\n",
    "evaluate_model(model, val_loader, device)\n"
   ]
  },
  {
   "cell_type": "code",
   "execution_count": 2,
   "metadata": {
    "execution": {
     "iopub.execute_input": "2025-04-14T15:38:30.081420Z",
     "iopub.status.busy": "2025-04-14T15:38:30.080671Z",
     "iopub.status.idle": "2025-04-14T15:38:30.094756Z",
     "shell.execute_reply": "2025-04-14T15:38:30.093706Z",
     "shell.execute_reply.started": "2025-04-14T15:38:30.081372Z"
    }
   },
   "outputs": [
    {
     "name": "stdout",
     "output_type": "stream",
     "text": [
      "Cohen's Kappa Score: 0.7650807606676404\n"
     ]
    }
   ],
   "source": [
    "from sklearn.metrics import cohen_kappa_score\n",
    "\n",
    "# Reconstruct true and predicted labels from the confusion matrix\n",
    "true_labels = []\n",
    "pred_labels = []\n",
    "\n",
    "conf_matrix = [\n",
    "    [353, 3, 10, 1, 2],\n",
    "    [11, 39, 14, 2, 1],\n",
    "    [1, 5, 170, 11, 6],\n",
    "    [1, 1, 6, 14, 12],\n",
    "    [1, 0, 7, 18, 44],\n",
    "]\n",
    "\n",
    "for true_class, row in enumerate(conf_matrix):\n",
    "    for pred_class, count in enumerate(row):\n",
    "        true_labels.extend([true_class] * count)\n",
    "        pred_labels.extend([pred_class] * count)\n",
    "\n",
    "# Compute Cohen's Kappa Score\n",
    "kappa = cohen_kappa_score(true_labels, pred_labels)\n",
    "print(\"Cohen's Kappa Score:\", kappa)"
   ]
  },
  {
   "cell_type": "code",
   "execution_count": 3,
   "metadata": {
    "execution": {
     "iopub.execute_input": "2025-04-14T15:40:47.221203Z",
     "iopub.status.busy": "2025-04-14T15:40:47.220498Z",
     "iopub.status.idle": "2025-04-14T15:40:47.613961Z",
     "shell.execute_reply": "2025-04-14T15:40:47.612918Z",
     "shell.execute_reply.started": "2025-04-14T15:40:47.221169Z"
    }
   },
   "outputs": [
    {
     "data": {
      "image/png": "[encoded data removed]",
      "text/plain": [
       "<Figure size 1000x600 with 1 Axes>"
      ]
     },
     "metadata": {},
     "output_type": "display_data"
    }
   ],
   "source": [
    "import matplotlib.pyplot as plt\n",
    "import numpy as np\n",
    "\n",
    "# Data from the classification report\n",
    "labels = ['0', '1', '2', '3', '4']\n",
    "precision = [0.9806, 0.6190, 0.7522, 0.5385, 0.7586]\n",
    "recall = [0.9566, 0.5821, 0.8808, 0.4118, 0.6286]\n",
    "f1_score = [0.9684, 0.6000, 0.8115, 0.4667, 0.6875]\n",
    "\n",
    "# Set up the figure and axes\n",
    "fig, ax = plt.subplots(figsize=(10, 6))\n",
    "\n",
    "# Bar width\n",
    "bar_width = 0.2\n",
    "\n",
    "# Set x positions for each bar group\n",
    "x = np.arange(len(labels))\n",
    "\n",
    "# Create bars for precision, recall, and f1-score\n",
    "ax.bar(x - bar_width, precision, bar_width, label='Precision', color='b')\n",
    "ax.bar(x, recall, bar_width, label='Recall', color='g')\n",
    "ax.bar(x + bar_width, f1_score, bar_width, label='F1-Score', color='r')\n",
    "\n",
    "# Add labels, title, and customize ticks\n",
    "ax.set_xlabel('Classes')\n",
    "ax.set_ylabel('Scores')\n",
    "ax.set_title('Precision, Recall, and F1-Score for Each Class')\n",
    "ax.set_xticks(x)\n",
    "ax.set_xticklabels(labels)\n",
    "ax.legend()\n",
    "\n",
    "# Show plot\n",
    "plt.tight_layout()\n",
    "plt.show()\n"
   ]
  }
 ],
 "metadata": {
  "kaggle": {
   "accelerator": "gpu",
   "dataSources": [
    {
     "databundleVersionId": 875431,
     "sourceId": 14774,
     "sourceType": "competition"
    },
    {
     "datasetId": 131128,
     "sourceId": 418031,
     "sourceType": "datasetVersion"
    }
   ],
   "dockerImageVersionId": 30805,
   "isGpuEnabled": true,
   "isInternetEnabled": true,
   "language": "python",
   "sourceType": "notebook"
  },
  "kernelspec": {
   "display_name": "Python 3 (ipykernel)",
   "language": "python",
   "name": "python3"
  },
  "language_info": {
   "codemirror_mode": {
    "name": "ipython",
    "version": 3
   },
   "file_extension": ".py",
   "mimetype": "text/x-python",
   "name": "python",
   "nbconvert_exporter": "python",
   "pygments_lexer": "ipython3",
   "version": "3.11.5"
  }
 },
 "nbformat": 4,
 "nbformat_minor": 4
}
